{
 "cells": [
  {
   "cell_type": "markdown",
   "metadata": {
    "id": "rIB1Lpb1vb8y"
   },
   "source": [
    "# MSR function written in JUlia"
   ]
  },
  {
   "cell_type": "code",
   "execution_count": 6,
   "metadata": {
    "id": "v_kDZ2GEtUnc"
   },
   "outputs": [],
   "source": [
    "# Import the required modules\n",
    "import numpy as np\n",
    "import matplotlib.pyplot as plt\n",
    "from collections import Counter\n",
    "import pandas as pd\n",
    "\n",
    "%matplotlib inline"
   ]
  },
  {
   "cell_type": "code",
   "execution_count": 7,
   "metadata": {},
   "outputs": [],
   "source": [
    "import h5py\n",
    "file_name = \"../../Project_MSR/Codes/Ryan_Original/src/data.hdf5\"\n",
    "f1 = h5py.File(file_name,'r+')\n",
    "unfil_spikes =np.array(f1[\"Spikes_unfil\"])"
   ]
  },
  {
   "cell_type": "code",
   "execution_count": 8,
   "metadata": {},
   "outputs": [],
   "source": [
    "def opt_rel(signal,dt,Tnum_points):\n",
    "    total_time=np.shape(signal)[0] * dt\n",
    "    Tbin=np.logspace(np.log10(0.01),np.log10(total_time), Tnum_points)\n",
    "    df = pd.DataFrame(columns=('Time', 'Hs','Hk','Hs+Hk'))\n",
    "\n",
    "    for count, tt in enumerate(Tbin):\n",
    "\n",
    "        mapping_ks=np.histogram(np.where(signal==1.0)[0] * dt, bins=np.arange(0.0, total_time + tt, tt))[0]\n",
    "\n",
    "        ks_counts = np.asarray(Counter(mapping_ks).most_common())\n",
    "        positive_values = np.where(ks_counts[:,0]>0)[0]\n",
    "        kq, mq = ks_counts[:,0][positive_values], ks_counts[:,1][positive_values]\n",
    "        assert np.sum(kq*mq)==np.sum(mapping_ks)\n",
    "        M = float(np.sum(kq*mq))\n",
    "\n",
    "        hk=-np.sum(((kq*mq)/M)*np.log2((kq*mq)/M))/np.log2(M)\n",
    "        hs=-np.sum(((kq*mq)/M)*np.log2(kq/M))/np.log2(M)\n",
    "        df.loc[count]=[tt,abs(hs),abs(hk),abs(hs+hk)]\n",
    "\n",
    "    return df,df.loc[df[\"Hs+Hk\"].idxmax()]\n"
   ]
  },
  {
   "cell_type": "code",
   "execution_count": 9,
   "metadata": {},
   "outputs": [],
   "source": [
    "s1,s2=opt_rel(unfil_spikes[8],0.01,100)"
   ]
  },
  {
   "cell_type": "code",
   "execution_count": 10,
   "metadata": {},
   "outputs": [
    {
     "data": {
      "image/png": "[encoded data removed]",
      "text/plain": [
       "<Figure size 432x288 with 1 Axes>"
      ]
     },
     "metadata": {
      "needs_background": "light"
     },
     "output_type": "display_data"
    }
   ],
   "source": [
    "plt.scatter(s1.Hs.values,s1.Hk.values)\n",
    "plt.axhline(s2.Hk)\n",
    "plt.show()"
   ]
  },
  {
   "cell_type": "code",
   "execution_count": 11,
   "metadata": {},
   "outputs": [
    {
     "data": {
      "text/plain": [
       "Time     1.843933\n",
       "Hs       0.798917\n",
       "Hk       0.371052\n",
       "Hs+Hk    1.169968\n",
       "Name: 44, dtype: float64"
      ]
     },
     "execution_count": 11,
     "metadata": {},
     "output_type": "execute_result"
    }
   ],
   "source": [
    "s2"
   ]
  },
  {
   "cell_type": "code",
   "execution_count": 12,
   "metadata": {},
   "outputs": [],
   "source": [
    "def opt_relv(signal,dt,Tnum_points):\n",
    "    total_time=np.shape(signal)[0] * dt\n",
    "    Tbin=np.logspace(np.log10(0.01),np.log10(total_time), Tnum_points)\n",
    "    df = pd.DataFrame(columns=('Time', 'Hs','Hk','Hs+Hk'))\n",
    "\n",
    "    for count, tt in enumerate(Tbin):\n",
    "\n",
    "        mapping_ks=np.histogram(np.where(signal==1.0)[0] * dt, bins=np.arange(0.0, total_time + tt, tt))[0]\n",
    "\n",
    "        ks_counts = np.asarray(Counter(mapping_ks).most_common())\n",
    "        positive_values = np.where(ks_counts[:,0]>0)[0]\n",
    "        kq, mq = ks_counts[:,0][positive_values], ks_counts[:,1][positive_values]\n",
    "        assert np.sum(kq*mq)==np.sum(mapping_ks)\n",
    "        M = float(np.sum(kq*mq))\n",
    "\n",
    "        hk=-np.sum(((kq*mq)/M)*np.log2((kq*mq)/M))/np.log2(M)\n",
    "        hs=-np.sum(((kq*mq)/M)*np.log2(kq/M))/np.log2(M)\n",
    "        df.loc[count]=[tt,abs(hs),abs(hk),abs(hs+hk)]\n",
    "\n",
    "    return df.loc[df[\"Hs+Hk\"].idxmax()]"
   ]
  },
  {
   "cell_type": "markdown",
   "metadata": {
    "id": "fzzabiedvsZe"
   },
   "source": [
    "# Seting up Izhikevich  Parameters\n",
    "[Simple Model of Spiking Neurons; IEEE Transactions on Neural Networks (2003) 14:1569- 1572 ](https://www.izhikevich.org/publications/spikes.htm)"
   ]
  },
  {
   "cell_type": "code",
   "execution_count": 48,
   "metadata": {
    "id": "-1GIvLQRteYE"
   },
   "outputs": [],
   "source": [
    "\n",
    "pars={#                             a            b       c        d         I      V0  \n",
    "    \"tonic spiking\" :              [0.02,      0.2,     -65,      6,       14,   -70.0], \n",
    "    #------------------------------------------------------------------------------------#\n",
    "    \"phasic spiking\" :             [0.02,      0.25,    -65,      6,      0.5,   -64.0],\n",
    "    #------------------------------------------------------------------------------------#\n",
    "    \"tonic bursting\" :             [0.02,      0.2,     -50,      2,       15,   -70.0], \n",
    "    #------------------------------------------------------------------------------------#\n",
    "    \"phasic bursting\" :             [0.02,      0.25,    -55,     0.05,    0.6,   -64.0], \n",
    "    #------------------------------------------------------------------------------------#\n",
    "    \"mixed mode\" :                 [0.02,      0.2,     -55,     4,        10,   -70.0],\n",
    "    #------------------------------------------------------------------------------------#\n",
    "    \"spike frequency adaptation\" : [0.01,      0.2,     -65,     8,        30,   -70.0],\n",
    "    #------------------------------------------------------------------------------------#\n",
    "    \"Class 1\" :                    [0.02,     -0.1,     -55,     6,         0,   -60.0],\n",
    "    #------------------------------------------------------------------------------------#\n",
    "    \"Class 2\" :                    [0.2,       0.26,    -65,     0,         0,   -64.0],\n",
    "    #------------------------------------------------------------------------------------#\n",
    "    \"spike latency\" :              [0.02,      0.2,     -65,     6,         7,   -70.0],\n",
    "    #------------------------------------------------------------------------------------#\n",
    "    \"subthreshold oscillations\" :  [0.05,      0.26,    -60,     0,         0,   -62.0],\n",
    "    #------------------------------------------------------------------------------------#\n",
    "    \"resonator\" :                  [0.1,       0.26,    -60,    -1,         0,   -62.0],\n",
    "    #------------------------------------------------------------------------------------#\n",
    "    \"integrator\" :                 [0.02,      -0.1,    -55,     6,         0,   -60.0],\n",
    "    #------------------------------------------------------------------------------------#\n",
    "    \"rebound spike\" :              [0.03,      0.25,    -60,     4,         0,   -64.0],\n",
    "    #------------------------------------------------------------------------------------#\n",
    "    \"rebound burst\" :              [0.03,      0.25,    -52,     0,         0,   -64.0],\n",
    "    #------------------------------------------------------------------------------------#\n",
    "    \"threshold variability\" :      [0.03,      0.25,    -60,     4,         0,   -64.0],\n",
    "    #------------------------------------------------------------------------------------#\n",
    "    \"bistability\" :                [1,         1.5,     -60,     0,         0,   -61.0],\n",
    "    #------------------------------------------------------------------------------------#\n",
    "    \"DAP\" :                        [1,         0.2,     -60,    -21,        0,   -70.0],\n",
    "    #------------------------------------------------------------------------------------#\n",
    "    \"accomodation\" :               [0.02,      1,       -55,     4,         0,   -65.0],\n",
    "    #------------------------------------------------------------------------------------#\n",
    "    \"inhibition-induced spiking\" : [-0.02,     -1,      -60,     8,        80,   -63.8],\n",
    "    #------------------------------------------------------------------------------------#\n",
    "    \"inhibition-induced bursting\": [-0.026,    -1,      -45,     0,        80,   -63.8]\n",
    "    #------------------------------------------------------------------------------------#\n",
    "    };\n",
    "name=[\n",
    "    \"tonic spiking\",#1\n",
    "    \"phasic spiking\",#2\n",
    "    \"tonic bursting\",#3\n",
    "    \"phasic bursting\",#4\n",
    "    \"mixed mode\",#5\n",
    "    \"spike frequency adaptation\",#6\n",
    "    \"Class 1\",#7\n",
    "    \"Class 2\",#8\n",
    "    \"spike latency\",#9\n",
    "    \"subthreshold oscillations\",#10\n",
    "    \"resonator\",#11\n",
    "    \"integrator\",#12\n",
    "    \"rebound spike\",#13\n",
    "    \"rebound burst\",#14\n",
    "    \"threshold variability\",#15\n",
    "    \"bistability\",#16\n",
    "    \"DAP\",#17\n",
    "    \"accomodation\",#18\n",
    "    \"inhibition-induced spiking\",#19\n",
    "    \"inhibition-induced bursting\"#20\n",
    "     ];"
   ]
  },
  {
   "cell_type": "markdown",
   "metadata": {
    "id": "uBO60vHwwVoT"
   },
   "source": [
    "# Importing MNIST DataSet"
   ]
  },
  {
   "cell_type": "code",
   "execution_count": 49,
   "metadata": {
    "id": "ADzgG2Votu6D"
   },
   "outputs": [],
   "source": [
    "from keras.datasets import mnist\n",
    "\n",
    "(train_images, train_labels), (test_images, test_labels) = mnist.load_data()\n",
    "\n",
    "train_images = train_images.reshape((60000, 28 * 28))\n",
    "train_images = train_images.astype('float32') / 255\n",
    "test_images = test_images.reshape((10000, 28 * 28))\n",
    "test_images = test_images.astype('float32') / 255"
   ]
  },
  {
   "cell_type": "code",
   "execution_count": 50,
   "metadata": {
    "colab": {
     "base_uri": "https://localhost:8080/"
    },
    "id": "VfxPDELqOAiw",
    "outputId": "3e66d23e-7ba6-4bf7-83bc-0df228afb784"
   },
   "outputs": [
    {
     "name": "stdout",
     "output_type": "stream",
     "text": [
      "(6742, 784) (5851, 784)\n"
     ]
    }
   ],
   "source": [
    "D0=train_images[np.where(train_labels==0)]\n",
    "D1=train_images[np.where(train_labels==1)]\n",
    "D2=train_images[np.where(train_labels==2)]\n",
    "D3=train_images[np.where(train_labels==3)]\n",
    "D4=train_images[np.where(train_labels==4)]\n",
    "D5=train_images[np.where(train_labels==5)]\n",
    "D6=train_images[np.where(train_labels==6)]\n",
    "D7=train_images[np.where(train_labels==7)]\n",
    "D8=train_images[np.where(train_labels==8)]\n",
    "D9=train_images[np.where(train_labels==9)]\n",
    "print(np.shape(D1),np.shape(D8))"
   ]
  },
  {
   "cell_type": "code",
   "execution_count": 90,
   "metadata": {
    "colab": {
     "base_uri": "https://localhost:8080/"
    },
    "id": "LGn-NcdPOCTw",
    "outputId": "c48d2b32-e48b-4d60-8ddb-1ae6c0f8c5fd"
   },
   "outputs": [
    {
     "data": {
      "text/plain": [
       "<matplotlib.colorbar.Colorbar at 0x7fe85020f1c0>"
      ]
     },
     "execution_count": 90,
     "metadata": {},
     "output_type": "execute_result"
    },
    {
     "data": {
      "image/png": "[encoded data removed]",
      "text/plain": [
       "<Figure size 432x288 with 2 Axes>"
      ]
     },
     "metadata": {
      "needs_background": "light"
     },
     "output_type": "display_data"
    }
   ],
   "source": [
    "plt.imshow(D3[2,:].reshape(28,28),cmap=\"binary\")\n",
    "plt.colorbar()"
   ]
  },
  {
   "cell_type": "code",
   "execution_count": 91,
   "metadata": {},
   "outputs": [
    {
     "data": {
      "text/plain": [
       "<matplotlib.colorbar.Colorbar at 0x7fe85014f610>"
      ]
     },
     "execution_count": 91,
     "metadata": {},
     "output_type": "execute_result"
    },
    {
     "data": {
      "image/png": "[encoded data removed]",
      "text/plain": [
       "<Figure size 432x288 with 2 Axes>"
      ]
     },
     "metadata": {
      "needs_background": "light"
     },
     "output_type": "display_data"
    }
   ],
   "source": [
    "plt.imshow(abs(D3[2,:]-1).reshape(28,28),cmap=\"binary\")\n",
    "plt.colorbar()"
   ]
  },
  {
   "cell_type": "code",
   "execution_count": null,
   "metadata": {},
   "outputs": [],
   "source": []
  },
  {
   "cell_type": "code",
   "execution_count": 123,
   "metadata": {},
   "outputs": [
    {
     "data": {
      "text/plain": [
       "<matplotlib.legend.Legend at 0x7fe84f83cb80>"
      ]
     },
     "execution_count": 123,
     "metadata": {},
     "output_type": "execute_result"
    },
    {
     "data": {
      "image/png": "[encoded data removed]",
      "text/plain": [
       "<Figure size 432x288 with 1 Axes>"
      ]
     },
     "metadata": {
      "needs_background": "light"
     },
     "output_type": "display_data"
    }
   ],
   "source": [
    "imgP=D3[2,:];\n",
    "imgN=abs(D3[2,:]-1);\n",
    "curr=np.zeros((np.shape(imgP)[0]),dtype=\"int\")\n",
    "curr[np.where(abs(np.diff(imgN))>0.001)]=1\n",
    "\n",
    "niter=np.shape(current)[0]\n",
    "dt = 0.01;\n",
    "ti = 0.0; tf = niter*dt;\n",
    "t=np.linspace(ti,tf,niter)\n",
    "\n",
    "# plt.figure(figsize=(50,30))\n",
    "# #plt.plot(imgN,label=\"Negative\")\n",
    "# #plt.plot(imgP,label=\"Positive\")\n",
    "plt.plot(t,curr,label=\"current\")\n",
    "plt.legend()"
   ]
  },
  {
   "cell_type": "code",
   "execution_count": 124,
   "metadata": {},
   "outputs": [
    {
     "data": {
      "text/plain": [
       "<matplotlib.colorbar.Colorbar at 0x7fe84f7f9f40>"
      ]
     },
     "execution_count": 124,
     "metadata": {},
     "output_type": "execute_result"
    },
    {
     "data": {
      "image/png": "[encoded data removed]",
      "text/plain": [
       "<Figure size 432x288 with 2 Axes>"
      ]
     },
     "metadata": {
      "needs_background": "light"
     },
     "output_type": "display_data"
    }
   ],
   "source": [
    "plt.imshow(curr.reshape(28,28),cmap=\"binary\")\n",
    "plt.colorbar()"
   ]
  },
  {
   "cell_type": "code",
   "execution_count": 125,
   "metadata": {},
   "outputs": [
    {
     "data": {
      "text/plain": [
       "Time     0.088182\n",
       "Hs       0.726915\n",
       "Hk       0.383324\n",
       "Hs+Hk    1.110239\n",
       "Name: 65, dtype: float64"
      ]
     },
     "execution_count": 125,
     "metadata": {},
     "output_type": "execute_result"
    }
   ],
   "source": [
    "opt_relv(curr,dt,200)"
   ]
  },
  {
   "cell_type": "code",
   "execution_count": 143,
   "metadata": {},
   "outputs": [],
   "source": [
    "def cal_Orel(D):\n",
    "    no_of_images=np.shape(D)[0]\n",
    "    rel=[]\n",
    "    \n",
    "    for ig in range(no_of_images):\n",
    "        img=D[ig,:];\n",
    " \n",
    "        spk=np.zeros((np.shape(img)[0]),dtype=\"int\")\n",
    "        spk[np.where(abs(np.diff(img))>0.001)]=1\n",
    "\n",
    "\n",
    "        rel.append(opt_relv(spk,dt,200).Hk)\n",
    "    return rel"
   ]
  },
  {
   "cell_type": "code",
   "execution_count": 146,
   "metadata": {},
   "outputs": [],
   "source": [
    "np.savetxt(\"0.dat\",cal_Orel(D0),delimiter=\"\\n\")"
   ]
  },
  {
   "cell_type": "code",
   "execution_count": 147,
   "metadata": {},
   "outputs": [
    {
     "name": "stdout",
     "output_type": "stream",
     "text": [
      "CPU times: user 2 µs, sys: 0 ns, total: 2 µs\n",
      "Wall time: 3.81 µs\n"
     ]
    }
   ],
   "source": [
    "%%time\n",
    "\n",
    "#lMSRD0=cal_Orel(D0);\n",
    "# lMSRD1=cal_msr(D1,nature);\n",
    "# lMSRD2=cal_msr(D2,nature);\n",
    "# lMSRD3=cal_msr(D3,nature);\n",
    "# lMSRD4=cal_msr(D4,nature);\n",
    "# lMSRD5=cal_msr(D5,nature);\n",
    "# lMSRD6=cal_msr(D6,nature);\n",
    "# lMSRD7=cal_msr(D7,nature);\n",
    "# lMSRD8=cal_msr(D8,nature);\n",
    "# lMSRD9=cal_msr(D9,nature);"
   ]
  },
  {
   "cell_type": "code",
   "execution_count": null,
   "metadata": {},
   "outputs": [],
   "source": []
  },
  {
   "cell_type": "code",
   "execution_count": null,
   "metadata": {},
   "outputs": [],
   "source": []
  },
  {
   "cell_type": "code",
   "execution_count": null,
   "metadata": {},
   "outputs": [],
   "source": []
  },
  {
   "cell_type": "code",
   "execution_count": null,
   "metadata": {},
   "outputs": [],
   "source": []
  },
  {
   "cell_type": "code",
   "execution_count": null,
   "metadata": {},
   "outputs": [],
   "source": []
  },
  {
   "cell_type": "code",
   "execution_count": null,
   "metadata": {},
   "outputs": [],
   "source": []
  },
  {
   "cell_type": "code",
   "execution_count": null,
   "metadata": {},
   "outputs": [],
   "source": []
  },
  {
   "cell_type": "code",
   "execution_count": null,
   "metadata": {},
   "outputs": [],
   "source": []
  },
  {
   "cell_type": "code",
   "execution_count": null,
   "metadata": {},
   "outputs": [],
   "source": []
  },
  {
   "cell_type": "code",
   "execution_count": null,
   "metadata": {},
   "outputs": [],
   "source": []
  },
  {
   "cell_type": "code",
   "execution_count": null,
   "metadata": {},
   "outputs": [],
   "source": []
  },
  {
   "cell_type": "code",
   "execution_count": null,
   "metadata": {},
   "outputs": [],
   "source": []
  },
  {
   "cell_type": "code",
   "execution_count": null,
   "metadata": {},
   "outputs": [],
   "source": []
  },
  {
   "cell_type": "markdown",
   "metadata": {
    "id": "eNwZ1nQvwJU5"
   },
   "source": [
    "# Solving ODE using Euler's Method "
   ]
  },
  {
   "cell_type": "code",
   "execution_count": 100,
   "metadata": {
    "id": "OUxuE4Thtg4R"
   },
   "outputs": [],
   "source": [
    "def IZH_NeuModel(Indx,niter,dt,current):\n",
    "    a,b,c,d,I,v=pars[name[Indx-1]];\n",
    "    u=b*v;\n",
    "    \n",
    "    if niter!=np.shape(current)[0]:raise Exception(\"Sorry, Check current array!!\") \n",
    "    \n",
    "    state=[[v,u]] #Initial condition\n",
    "    \n",
    "    for t in range(1,niter+1):\n",
    "        dv,du=((0.04*(v**2)) + (5*v) + 140 - u + current[t-1] ,a * ((b*v) - u) )\n",
    "        v+=dt*dv;u+=dt*du\n",
    "    \n",
    "        if(v>=30.0):\n",
    "            v=c\n",
    "            u+=d\n",
    "        state.append(np.array([v,u]))\n",
    "\n",
    "    return np.array(state)"
   ]
  },
  {
   "cell_type": "code",
   "execution_count": 110,
   "metadata": {},
   "outputs": [
    {
     "name": "stdout",
     "output_type": "stream",
     "text": [
      "tonic spiking\n",
      "CPU times: user 15.8 ms, sys: 0 ns, total: 15.8 ms\n",
      "Wall time: 14.7 ms\n"
     ]
    },
    {
     "data": {
      "text/plain": [
       "[<matplotlib.lines.Line2D at 0x7fe84fbe80d0>]"
      ]
     },
     "execution_count": 110,
     "metadata": {},
     "output_type": "execute_result"
    },
    {
     "data": {
      "image/png": "[encoded data removed]",
      "text/plain": [
       "<Figure size 432x288 with 1 Axes>"
      ]
     },
     "metadata": {
      "needs_background": "light"
     },
     "output_type": "display_data"
    }
   ],
   "source": [
    "%%time\n",
    "\n",
    "img=D3[2,:];\n",
    "#img=abs(D3[2,:]-1);\n",
    "##############################################\n",
    "nature=1\n",
    "_,_,_,_,I0,_=pars[name[nature-1]];\n",
    "print(name[nature-1])\n",
    "##########################################################\n",
    "# Designing Input Current\n",
    "current=I0*np.ones((np.shape(imgP)[0]),dtype=\"int\")\n",
    "#current[np.where(abs(np.diff(imgN))>0.001)]=255\n",
    "###############################################################\n",
    "niter=np.shape(current)[0]\n",
    "dt = 0.01;\n",
    "ti = 0.0; tf = niter*dt;\n",
    "t=np.linspace(ti,tf,niter)\n",
    "###########################################################\n",
    "#Solving the IZH Equation\n",
    "sol=IZH_NeuModel(nature,niter,dt,current)\n",
    "vsol=sol[1:,0]\n",
    "Spikes=np.zeros(np.shape(vsol),dtype=int)\n",
    "Spikes[np.where(vsol>0.0)]=1\n",
    "\n",
    "plt.plot(t,current,\"r-\",label=\"current\")\n",
    "plt.plot(t,vsol,label=\"Mem Pot\")\n",
    "plt.plot(t,Spikes*(-70.0),\"bo\",ms=1,label=\"Spikes\")"
   ]
  },
  {
   "cell_type": "code",
   "execution_count": null,
   "metadata": {},
   "outputs": [],
   "source": []
  },
  {
   "cell_type": "code",
   "execution_count": null,
   "metadata": {},
   "outputs": [],
   "source": []
  },
  {
   "cell_type": "code",
   "execution_count": null,
   "metadata": {},
   "outputs": [],
   "source": []
  },
  {
   "cell_type": "code",
   "execution_count": null,
   "metadata": {},
   "outputs": [],
   "source": []
  },
  {
   "cell_type": "code",
   "execution_count": null,
   "metadata": {},
   "outputs": [],
   "source": []
  },
  {
   "cell_type": "code",
   "execution_count": null,
   "metadata": {},
   "outputs": [],
   "source": []
  },
  {
   "cell_type": "code",
   "execution_count": null,
   "metadata": {},
   "outputs": [],
   "source": []
  },
  {
   "cell_type": "code",
   "execution_count": null,
   "metadata": {},
   "outputs": [],
   "source": []
  },
  {
   "cell_type": "code",
   "execution_count": null,
   "metadata": {},
   "outputs": [],
   "source": []
  },
  {
   "cell_type": "code",
   "execution_count": null,
   "metadata": {},
   "outputs": [],
   "source": []
  },
  {
   "cell_type": "code",
   "execution_count": null,
   "metadata": {},
   "outputs": [],
   "source": []
  },
  {
   "cell_type": "code",
   "execution_count": null,
   "metadata": {},
   "outputs": [],
   "source": []
  },
  {
   "cell_type": "code",
   "execution_count": null,
   "metadata": {},
   "outputs": [],
   "source": []
  },
  {
   "cell_type": "code",
   "execution_count": null,
   "metadata": {},
   "outputs": [],
   "source": []
  },
  {
   "cell_type": "code",
   "execution_count": null,
   "metadata": {},
   "outputs": [],
   "source": []
  },
  {
   "cell_type": "code",
   "execution_count": null,
   "metadata": {},
   "outputs": [],
   "source": []
  },
  {
   "cell_type": "code",
   "execution_count": null,
   "metadata": {},
   "outputs": [],
   "source": []
  },
  {
   "cell_type": "code",
   "execution_count": null,
   "metadata": {},
   "outputs": [],
   "source": []
  },
  {
   "cell_type": "code",
   "execution_count": null,
   "metadata": {},
   "outputs": [],
   "source": []
  },
  {
   "cell_type": "code",
   "execution_count": null,
   "metadata": {},
   "outputs": [],
   "source": []
  },
  {
   "cell_type": "code",
   "execution_count": null,
   "metadata": {},
   "outputs": [],
   "source": []
  },
  {
   "cell_type": "markdown",
   "metadata": {},
   "source": [
    "# Older Investigation"
   ]
  },
  {
   "cell_type": "markdown",
   "metadata": {},
   "source": [
    "# Encoding "
   ]
  },
  {
   "cell_type": "code",
   "execution_count": 24,
   "metadata": {
    "id": "j-N_Vgm8tldC"
   },
   "outputs": [],
   "source": [
    "def lenc(fw,r):\n",
    "    return [r]*(fw) #[length]*(width) of the pulse\n",
    "\n",
    "def wenc(fl,r):\n",
    "    return [fl]*(r) #[length]*(width) of the pulse\n",
    "\n",
    "from functools import reduce\n",
    "from math import sqrt\n",
    "def factors(n):\n",
    "        step = 2 if n%2 else 1\n",
    "        return set(reduce(list.__add__,\n",
    "                    ([i, n//i] for i in range(1, int(sqrt(n))+1, step) if n % i == 0)))\n",
    "\n",
    "\n",
    "def arenc(r):\n",
    "        a=np.sort(list(factors(r)))\n",
    "        N=np.shape(a)[0]\n",
    "        if N==1:\n",
    "            return [r]\n",
    "        elif N==2:\n",
    "            return [a[0]]*(a[-1]) #[length]*(width) of the pulse\n",
    "        elif N==3:\n",
    "            return [a[0]]*(a[-1]) #[length]*(width) of the pulse\n",
    "        elif N==4:\n",
    "            return [a[1]]*(a[-2]) #[length]*(width) of the pulse\n",
    "        else:\n",
    "            s=np.random.randint(1,(N/2))\n",
    "            if a[s]*a[-s-1]!=r:raise Exception(\"Sorry, Area not conserved!!\") \n",
    "            return [a[s]]*(a[-s-1]) #[length]*(width) of the pulse"
   ]
  },
  {
   "cell_type": "code",
   "execution_count": null,
   "metadata": {},
   "outputs": [],
   "source": []
  },
  {
   "cell_type": "markdown",
   "metadata": {
    "id": "Q6qfl_AYOXVt"
   },
   "source": [
    "# Testing "
   ]
  },
  {
   "cell_type": "code",
   "execution_count": null,
   "metadata": {
    "colab": {
     "base_uri": "https://localhost:8080/"
    },
    "id": "WVAInsn2tr3A",
    "outputId": "c6ea0112-2703-4b98-c1f2-7af6c69e14ee"
   },
   "outputs": [],
   "source": [
    "%%time\n",
    "\n",
    "img=np.diff(np.array(255*D1[2,:],dtype=int));\n",
    "##############################################\n",
    "nature=1\n",
    "_,_,_,_,I0,_=pars[name[nature-1]];\n",
    "print(name[nature-1])\n",
    "##########################################################\n",
    "# Designing Input Current\n",
    "curr=[]\n",
    "for i in range(np.shape(img)[0]):\n",
    "    if img[i]!=0:\n",
    "        curr.append(wenc(I0,img[i]))    \n",
    "    else:\n",
    "        curr.append([0.0])\n",
    "    \n",
    "current=np.concatenate(curr, axis=None) #Width ENcoding\n",
    "###############################################################\n",
    "niter=np.shape(current)[0]\n",
    "dt = 0.01;\n",
    "ti = 0.0; tf = niter*dt;\n",
    "t=np.linspace(ti,tf,niter)\n",
    "###########################################################\n",
    "#Solving the IZH Equation\n",
    "sol=IZH_NeuModel(nature,niter,dt,current)\n",
    "vsol=sol[1:,0]\n",
    "Spikes=np.zeros(np.shape(vsol),dtype=int)\n",
    "Spikes[np.where(vsol>0.0)]=1\n",
    "\n",
    "plt.plot(t,current,\"r-\",label=\"current\")\n",
    "plt.plot(t,vsol,label=\"Mem Pot\")\n",
    "plt.plot(t,Spikes*(-70.0),\"bo\",ms=1,label=\"Spikes\")"
   ]
  },
  {
   "cell_type": "code",
   "execution_count": null,
   "metadata": {
    "colab": {
     "base_uri": "https://localhost:8080/",
     "height": 283
    },
    "id": "JitNK5Bktywp",
    "outputId": "adba1ce5-2427-4257-9e5c-fde6d35bfff3"
   },
   "outputs": [],
   "source": [
    "opt_relv(Spikes,dt,200)"
   ]
  },
  {
   "cell_type": "markdown",
   "metadata": {
    "id": "oXD4_PHSld6n"
   },
   "source": [
    "## Testing Inverse"
   ]
  },
  {
   "cell_type": "code",
   "execution_count": null,
   "metadata": {},
   "outputs": [],
   "source": [
    "%%time\n",
    "\n",
    "img=np.diff(np.array(255*abs(D1[2,:]-1),dtype=int));\n",
    "##############################################\n",
    "nature=1\n",
    "_,_,_,_,I0,_=pars[name[nature-1]];\n",
    "print(name[nature-1])\n",
    "##########################################################\n",
    "# Designing Input Current\n",
    "curr=[]\n",
    "for i in range(np.shape(img)[0]):\n",
    "    if img[i]!=0:\n",
    "        curr.append(wenc(I0,img[i]))    \n",
    "    else:\n",
    "        curr.append([0.0])\n",
    "    \n",
    "current=np.concatenate(curr, axis=None) #Width ENcoding\n",
    "###############################################################\n",
    "niter=np.shape(current)[0]\n",
    "dt = 0.01;\n",
    "ti = 0.0; tf = niter*dt;\n",
    "t=np.linspace(ti,tf,niter)\n",
    "###########################################################\n",
    "#Solving the IZH Equation\n",
    "sol=IZH_NeuModel(nature,niter,dt,current)\n",
    "vsol=sol[1:,0]\n",
    "Spikes=np.zeros(np.shape(vsol),dtype=int)\n",
    "Spikes[np.where(vsol>0.0)]=1\n",
    "\n",
    "plt.plot(t,current,\"r-\",label=\"current\")\n",
    "plt.plot(t,vsol,label=\"Mem Pot\")\n",
    "plt.plot(t,Spikes*(-70.0),\"bo\",ms=1,label=\"Spikes\")"
   ]
  },
  {
   "cell_type": "code",
   "execution_count": null,
   "metadata": {},
   "outputs": [],
   "source": [
    "opt_relv(Spikes,dt,200)"
   ]
  },
  {
   "cell_type": "markdown",
   "metadata": {
    "id": "qsNt8JGkUOWR"
   },
   "source": [
    "# Bluk Function for width encoding"
   ]
  },
  {
   "cell_type": "code",
   "execution_count": null,
   "metadata": {
    "id": "ubUdQT3EUS7d"
   },
   "outputs": [],
   "source": [
    "def enc(f,r):\n",
    "    return [f]*(r) #[length]*(width) of the pulse\n",
    "\n",
    "def cal_Orel(D,nature):\n",
    "    no_of_images=np.shape(D)[0]\n",
    "    rel=[]\n",
    "    _,_,_,_,I0,_=pars[name[nature-1]];\n",
    "    \n",
    "    for ig in range(no_of_images):\n",
    "        #Scalling the image from 0.0 1.0 to 0 to 255 \n",
    "        img=np.array(255*D[ig,:],dtype=int);\n",
    "\n",
    "        #Encoding \n",
    "        curr=[]\n",
    "        for i in range(np.shape(img)[0]):\n",
    "            if img[i]!=0:\n",
    "                curr.append(enc(I0,img[i]))    \n",
    "            else:\n",
    "                curr.append([0.0])\n",
    "        current=np.concatenate(curr, axis=None)\n",
    "\n",
    "        #declaring time\n",
    "        niter=np.shape(current)[0]\n",
    "        dt = 0.01;\n",
    "        #ti = 0.0; tf = niter*dt;\n",
    "        #t=np.linspace(ti,tf,niter)\n",
    "\n",
    "        sol=IZH_NeuModel(nature,niter,dt,current)\n",
    "        Spikes=np.zeros(np.shape(sol[1:,0]),dtype=int)\n",
    "        Spikes[np.where(sol[1:,0]>0.0)]=1\n",
    "\n",
    "        #plt.plot(t,current,\"r-\",label=\"current\")\n",
    "        #plt.axhline(30.0)\n",
    "        #plt.plot(t,vsol,label=\"Mem Pot\")\n",
    "        #plt.plot(t,Spikes*(-70.0),\"bo\",ms=1,label=\"Spikes\")\n",
    "\n",
    "        rel.append(opt_relv(Spikes,dt,200).Hk)\n",
    "    return rel"
   ]
  },
  {
   "cell_type": "markdown",
   "metadata": {
    "id": "D8rhzoKcwduR"
   },
   "source": [
    "# Solving IZH Neuronal model with MNIST images as current Input"
   ]
  },
  {
   "cell_type": "code",
   "execution_count": null,
   "metadata": {
    "id": "TyE14cgft7Ag"
   },
   "outputs": [],
   "source": [
    "%%time\n",
    "\n",
    "nature=1\n",
    "lMSRD0=cal_Orel(D0,nature);\n",
    "# lMSRD1=cal_msr(D1,nature);\n",
    "# lMSRD2=cal_msr(D2,nature);\n",
    "# lMSRD3=cal_msr(D3,nature);\n",
    "# lMSRD4=cal_msr(D4,nature);\n",
    "# lMSRD5=cal_msr(D5,nature);\n",
    "# lMSRD6=cal_msr(D6,nature);\n",
    "# lMSRD7=cal_msr(D7,nature);\n",
    "# lMSRD8=cal_msr(D8,nature);\n",
    "# lMSRD9=cal_msr(D9,nature);"
   ]
  },
  {
   "cell_type": "code",
   "execution_count": null,
   "metadata": {
    "colab": {
     "base_uri": "https://localhost:8080/"
    },
    "id": "a8GXDOx3mQY7",
    "outputId": "44420eed-6600-4ac1-dd5f-04a7d3445ae5"
   },
   "outputs": [],
   "source": [
    "for s in [lMSRD0,lMSRD1,lMSRD2,lMSRD3,lMSRD4,lMSRD5,lMSRD6,lMSRD7,lMSRD8,lMSRD9]:\n",
    "  print(np.mean(s),np.std(s))"
   ]
  },
  {
   "cell_type": "code",
   "execution_count": null,
   "metadata": {
    "colab": {
     "base_uri": "https://localhost:8080/"
    },
    "id": "U7iXAQZGiq6Q",
    "outputId": "276c750e-143b-43f4-e94e-fbd6ce75cdd7"
   },
   "outputs": [],
   "source": [
    "import csv\n",
    "a=[lMSRD0,lMSRD1,lMSRD2,lMSRD3,lMSRD4,lMSRD5,lMSRD6,lMSRD7,lMSRD8,lMSRD9]\n",
    "with open(\"lMSR.csv\", \"w\", newline=\"\") as f:\n",
    "    writer = csv.writer(f)\n",
    "    writer.writerows(a)\n",
    "\n",
    "from google.colab import files\n",
    "files.download('lMSR.csv')"
   ]
  },
  {
   "cell_type": "code",
   "execution_count": null,
   "metadata": {
    "id": "AgOepRrCUIQf"
   },
   "outputs": [],
   "source": [
    "#About 15 mins"
   ]
  },
  {
   "cell_type": "code",
   "execution_count": null,
   "metadata": {
    "colab": {
     "background_save": true
    },
    "id": "eRhcD3iOUXx0"
   },
   "outputs": [],
   "source": [
    "nature=2\n",
    "wMSRD0=cal_msr(D0,nature);\n",
    "wMSRD1=cal_msr(D1,nature);\n",
    "wMSRD2=cal_msr(D2,nature);\n",
    "wMSRD3=cal_msr(D3,nature);\n",
    "wMSRD4=cal_msr(D4,nature);\n",
    "wMSRD5=cal_msr(D5,nature);\n",
    "wMSRD6=cal_msr(D6,nature);\n",
    "wMSRD7=cal_msr(D7,nature);\n",
    "wMSRD8=cal_msr(D8,nature);\n",
    "wMSRD9=cal_msr(D9,nature);"
   ]
  },
  {
   "cell_type": "code",
   "execution_count": null,
   "metadata": {
    "colab": {
     "background_save": true,
     "base_uri": "https://localhost:8080/"
    },
    "id": "LMSATsrNU12c",
    "outputId": "03bfd762-8385-4f76-f535-65c62710354c"
   },
   "outputs": [],
   "source": [
    "for s in [wMSRD0,wMSRD1,wMSRD2,wMSRD3,wMSRD4,wMSRD5,wMSRD6,wMSRD7,wMSRD8,wMSRD9]:\n",
    "  print(np.mean(s),np.std(s))"
   ]
  },
  {
   "cell_type": "code",
   "execution_count": null,
   "metadata": {
    "colab": {
     "background_save": true,
     "base_uri": "https://localhost:8080/"
    },
    "id": "WSCw_oUOji3e",
    "outputId": "05a71d1f-9e10-42a9-d670-14405168c635"
   },
   "outputs": [],
   "source": [
    "import csv\n",
    "a=[wMSRD0,wMSRD1,wMSRD2,wMSRD3,wMSRD4,wMSRD5,wMSRD6,wMSRD7,wMSRD8,wMSRD9]\n",
    "with open(\"wMSR.csv\", \"w\", newline=\"\") as f:\n",
    "    writer = csv.writer(f)\n",
    "    writer.writerows(a)\n",
    "\n",
    "from google.colab import files\n",
    "files.download('wMSR.csv')"
   ]
  },
  {
   "cell_type": "code",
   "execution_count": null,
   "metadata": {
    "colab": {
     "background_save": true
    },
    "id": "oA4FK7-2UlZQ"
   },
   "outputs": [],
   "source": [
    "#About 25 mins each"
   ]
  },
  {
   "cell_type": "markdown",
   "metadata": {
    "id": "0KskHQSvgz7Q"
   },
   "source": [
    "# Bluk Function for Area encoding"
   ]
  },
  {
   "cell_type": "code",
   "execution_count": null,
   "metadata": {
    "colab": {
     "background_save": true
    },
    "id": "i76YHO2ccrqk"
   },
   "outputs": [],
   "source": [
    "from functools import reduce\n",
    "from math import sqrt\n",
    "def factors(n):\n",
    "        step = 2 if n%2 else 1\n",
    "        return set(reduce(list.__add__,\n",
    "                    ([i, n//i] for i in range(1, int(sqrt(n))+1, step) if n % i == 0)))\n",
    "\n",
    "\n",
    "def enc(r):\n",
    "        a=np.sort(list(factors(r)))\n",
    "        N=np.shape(a)[0]\n",
    "        if N==1:\n",
    "            return [r]\n",
    "        elif N==2:\n",
    "            return [a[0]]*(a[-1]) #[length]*(width) of the pulse\n",
    "        elif N==3:\n",
    "            return [a[0]]*(a[-1]) #[length]*(width) of the pulse\n",
    "        elif N==4:\n",
    "            return [a[1]]*(a[-2]) #[length]*(width) of the pulse\n",
    "        else:\n",
    "            s=np.random.randint(1,(N/2))\n",
    "            if a[s]*a[-s-1]!=r:raise Exception(\"Sorry, Area not conserved!!\") \n",
    "            return [a[s]]*(a[-s-1]) #[length]*(width) of the pulse\n",
    "\n",
    "def cal_msr(D,nature):\n",
    "    no_of_images=np.shape(D)[0]\n",
    "    msr=[]\n",
    "    \n",
    "    for ig in range(no_of_images):\n",
    "        #Scalling the image from 0.0 1.0 to 0 to 255 \n",
    "        img=np.array(255*D[ig,:],dtype=int);\n",
    "\n",
    "        #Encoding \n",
    "        curr=[]\n",
    "        for i in range(np.shape(img)[0]):\n",
    "            if img[i]!=0:\n",
    "                curr.append(enc(img[i]))    \n",
    "            else:\n",
    "                curr.append([0.0])\n",
    "        current=np.concatenate(curr, axis=None)\n",
    "\n",
    "        #declaring time\n",
    "        niter=np.shape(current)[0]\n",
    "        dt = 0.01;\n",
    "        #ti = 0.0; tf = niter*dt;\n",
    "        #t=np.linspace(ti,tf,niter)\n",
    "\n",
    "        sol=IZH_NeuModel(nature,niter,dt,current)\n",
    "        Spikes=np.zeros(np.shape(sol[1:,0]),dtype=int)\n",
    "        Spikes[np.where(sol[1:,0]>0.0)]=1\n",
    "\n",
    "        #plt.plot(t,current,\"r-\",label=\"current\")\n",
    "        #plt.axhline(30.0)\n",
    "        #plt.plot(t,vsol,label=\"Mem Pot\")\n",
    "        #plt.plot(t,Spikes*(-70.0),\"bo\",ms=1,label=\"Spikes\")\n",
    "\n",
    "        msr.append(Main.calculate_MSR(Spikes))\n",
    "    return msr"
   ]
  },
  {
   "cell_type": "code",
   "execution_count": null,
   "metadata": {
    "colab": {
     "background_save": true
    },
    "id": "Cg_t1mBAcsmA"
   },
   "outputs": [],
   "source": [
    "nature=2\n",
    "aMSRD0=cal_msr(D0,nature);\n",
    "aMSRD1=cal_msr(D1,nature);\n",
    "aMSRD2=cal_msr(D2,nature);\n",
    "aMSRD3=cal_msr(D3,nature);\n",
    "aMSRD4=cal_msr(D4,nature);\n",
    "aMSRD5=cal_msr(D5,nature);\n",
    "aMSRD6=cal_msr(D6,nature);\n",
    "aMSRD7=cal_msr(D7,nature);\n",
    "aMSRD8=cal_msr(D8,nature);\n",
    "aMSRD9=cal_msr(D9,nature);"
   ]
  },
  {
   "cell_type": "code",
   "execution_count": null,
   "metadata": {
    "colab": {
     "background_save": true
    },
    "id": "PMnNUSmYhaAe",
    "outputId": "7ffbb31a-89dd-446e-e081-0c33c08c44a9"
   },
   "outputs": [],
   "source": [
    "for s in [aMSRD0,aMSRD1,aMSRD2,aMSRD3,aMSRD4,aMSRD5,aMSRD6,aMSRD7,aMSRD8,aMSRD9]:\n",
    "  print(np.mean(s),np.std(s))"
   ]
  },
  {
   "cell_type": "code",
   "execution_count": null,
   "metadata": {
    "colab": {
     "background_save": true
    },
    "id": "-6hXzdcsjkp0",
    "outputId": "d3edc690-b666-4b30-b878-ed6490b38af5"
   },
   "outputs": [],
   "source": [
    "import csv\n",
    "a=[aMSRD0,aMSRD1,aMSRD2,aMSRD3,aMSRD4,aMSRD5,aMSRD6,aMSRD7,aMSRD8,aMSRD9]\n",
    "with open(\"aMSR.csv\", \"w\", newline=\"\") as f:\n",
    "    writer = csv.writer(f)\n",
    "    writer.writerows(a)\n",
    "\n",
    "from google.colab import files\n",
    "files.download('aMSR.csv')"
   ]
  },
  {
   "cell_type": "code",
   "execution_count": null,
   "metadata": {
    "colab": {
     "background_save": true
    },
    "id": "3hu_jMcZj623"
   },
   "outputs": [],
   "source": []
  },
  {
   "cell_type": "code",
   "execution_count": null,
   "metadata": {
    "colab": {
     "background_save": true
    },
    "id": "BAbUra-L17dM"
   },
   "outputs": [],
   "source": []
  },
  {
   "cell_type": "code",
   "execution_count": null,
   "metadata": {
    "colab": {
     "background_save": true
    },
    "id": "pbtjHHyA17iB"
   },
   "outputs": [],
   "source": []
  },
  {
   "cell_type": "code",
   "execution_count": null,
   "metadata": {
    "colab": {
     "background_save": true
    },
    "id": "W3oWB2TG17lz"
   },
   "outputs": [],
   "source": []
  },
  {
   "cell_type": "code",
   "execution_count": null,
   "metadata": {
    "colab": {
     "base_uri": "https://localhost:8080/"
    },
    "id": "ALByISjtorQ9",
    "outputId": "7cc349b8-5a1b-4e31-b32e-d65e9d8d2baa"
   },
   "outputs": [],
   "source": [
    "import pandas as pd\n",
    "df=pd.read_excel('1_aMSR.xlsx',header=None)\n",
    "arX=[];arNS=[];arY=[];arYerr=[];\n",
    "for index, row in df.iterrows():\n",
    "  b=row.to_numpy(dtype=float)\n",
    "  print(index+1,np.nanmedian(b),np.nanstd(b))\n",
    "  arX.append(index+1)\n",
    "  arY.append(np.nanmedian(b))\n",
    "  arYerr.append(np.nanstd(b))\n",
    "  arNS.append(b.size - np.isnan(b).sum())\n",
    "    "
   ]
  },
  {
   "cell_type": "code",
   "execution_count": null,
   "metadata": {
    "colab": {
     "base_uri": "https://localhost:8080/"
    },
    "id": "fAfHHH9h69_R",
    "outputId": "13f41c8f-bb37-4f0f-fd9b-181c494540c8"
   },
   "outputs": [],
   "source": [
    "\n",
    "df=pd.read_excel('1_lMSR.xlsx',header=None)\n",
    "lX=[];lNS=[];lY=[];lYerr=[];\n",
    "for index, row in df.iterrows():\n",
    "  b=row.to_numpy(dtype=float)\n",
    "  print(index+1,np.nanmedian(b),np.nanstd(b))\n",
    "  lX.append(index+1)\n",
    "  lY.append(np.nanmedian(b))\n",
    "  lYerr.append(np.nanstd(b))\n",
    "  lNS.append(b.size - np.isnan(b).sum())\n",
    "    "
   ]
  },
  {
   "cell_type": "code",
   "execution_count": null,
   "metadata": {
    "colab": {
     "base_uri": "https://localhost:8080/"
    },
    "id": "eKKxUcvS6_Ip",
    "outputId": "c5b22c8f-5723-475f-ca47-6c7b9f1a4182"
   },
   "outputs": [],
   "source": [
    "\n",
    "df=pd.read_excel('1_wMSR.xlsx',header=None)\n",
    "wX=[];wNS=[];wY=[];wYerr=[];\n",
    "for index, row in df.iterrows():\n",
    "  b=row.to_numpy(dtype=float)\n",
    "  print(index+1,np.nanmedian(b),np.nanstd(b))\n",
    "  wX.append(index+1)\n",
    "  wY.append(np.nanmedian(b))\n",
    "  wYerr.append(np.nanstd(b))\n",
    "  wNS.append(b.size - np.isnan(b).sum())\n",
    "    "
   ]
  },
  {
   "cell_type": "code",
   "execution_count": null,
   "metadata": {
    "colab": {
     "base_uri": "https://localhost:8080/",
     "height": 499
    },
    "id": "HOUu03K6rF-f",
    "outputId": "3881b3e1-20e6-432c-bdad-9f9d0174dd97"
   },
   "outputs": [],
   "source": [
    "plt.figure(figsize=(30,8))\n",
    "\n",
    "plt.subplot(1,3,1)\n",
    "#plt.ylim([0.14,0.26])\n",
    "plt.title(\"Length Encoding\")\n",
    "plt.scatter(lX,lY,c=lNS)\n",
    "plt.errorbar(lX,lY,yerr=lYerr)\n",
    "plt.colorbar()\n",
    "plt.xticks(lX)\n",
    "plt.grid()\n",
    "\n",
    "plt.subplot(1,3,2)\n",
    "#plt.ylim([0.14,0.26])\n",
    "plt.title(\"Width Encoding\")\n",
    "plt.scatter(wX,wY,c=wNS)\n",
    "plt.errorbar(wX,wY,yerr=wYerr)\n",
    "plt.colorbar()\n",
    "plt.xticks(wX)\n",
    "plt.grid()\n",
    "\n",
    "plt.subplot(1,3,3)\n",
    "#plt.ylim([0.1,0.26])\n",
    "plt.title(\"Area Encoding\")\n",
    "plt.scatter(arX,arY,c=arNS)\n",
    "plt.errorbar(arX,arY,yerr=arYerr)\n",
    "plt.colorbar()\n",
    "plt.xticks(X)\n",
    "plt.grid()"
   ]
  },
  {
   "cell_type": "code",
   "execution_count": null,
   "metadata": {
    "id": "XZsjRW09rFpZ"
   },
   "outputs": [],
   "source": []
  },
  {
   "cell_type": "code",
   "execution_count": null,
   "metadata": {
    "id": "hpYYsI35rFlp"
   },
   "outputs": [],
   "source": []
  },
  {
   "cell_type": "markdown",
   "metadata": {
    "id": "M8AHAlhB19-5"
   },
   "source": [
    "# Bluk Function for amplitude encoding"
   ]
  },
  {
   "cell_type": "code",
   "execution_count": null,
   "metadata": {
    "colab": {
     "background_save": true
    },
    "id": "zoWWG94E19_V"
   },
   "outputs": [],
   "source": [
    "def enc(r):\n",
    "    return [r]*(10) #[length]*(width) of the pulse\n",
    "\n",
    "def cal_msr(D,nature):\n",
    "    no_of_images=np.shape(D)[0]\n",
    "    msr=[]\n",
    "    \n",
    "    for ig in range(no_of_images):\n",
    "        #Scalling the image from 0.0 1.0 to 0 to 255 \n",
    "        img=np.array(255*D[ig,:],dtype=int);\n",
    "\n",
    "        #Encoding \n",
    "        curr=[]\n",
    "        for i in range(np.shape(img)[0]):\n",
    "            if img[i]!=0:\n",
    "                curr.append(enc(img[i]))    \n",
    "            else:\n",
    "                curr.append([0.0])\n",
    "        current=np.concatenate(curr, axis=None)\n",
    "\n",
    "        #declaring time\n",
    "        niter=np.shape(current)[0]\n",
    "        dt = 0.01;\n",
    "        #ti = 0.0; tf = niter*dt;\n",
    "        #t=np.linspace(ti,tf,niter)\n",
    "\n",
    "        sol=IZH_NeuModel(nature,niter,dt,current)\n",
    "        Spikes=np.zeros(np.shape(sol[1:,0]),dtype=int)\n",
    "        Spikes[np.where(sol[1:,0]>0.0)]=1\n",
    "\n",
    "        #plt.plot(t,current,\"r-\",label=\"current\")\n",
    "        #plt.axhline(30.0)\n",
    "        #plt.plot(t,vsol,label=\"Mem Pot\")\n",
    "        #plt.plot(t,Spikes*(-70.0),\"bo\",ms=1,label=\"Spikes\")\n",
    "\n",
    "        msr.append(Main.calculate_MSR(Spikes))\n",
    "    return msr"
   ]
  },
  {
   "cell_type": "markdown",
   "metadata": {
    "id": "4dAwh7yo19_X"
   },
   "source": [
    "# Solving IZH Neuronal model with MNIST images as current Input"
   ]
  },
  {
   "cell_type": "code",
   "execution_count": null,
   "metadata": {
    "colab": {
     "background_save": true
    },
    "id": "IZDLaS0H19_X"
   },
   "outputs": [],
   "source": [
    "nature=1\n",
    "lMSRD0=cal_msr(D0,nature);\n",
    "lMSRD1=cal_msr(D1,nature);\n",
    "lMSRD2=cal_msr(D2,nature);\n",
    "lMSRD3=cal_msr(D3,nature);\n",
    "lMSRD4=cal_msr(D4,nature);\n",
    "lMSRD5=cal_msr(D5,nature);\n",
    "lMSRD6=cal_msr(D6,nature);\n",
    "lMSRD7=cal_msr(D7,nature);\n",
    "lMSRD8=cal_msr(D8,nature);\n",
    "lMSRD9=cal_msr(D9,nature);"
   ]
  },
  {
   "cell_type": "code",
   "execution_count": null,
   "metadata": {
    "colab": {
     "background_save": true
    },
    "id": "ttBJvIE919_Y",
    "outputId": "4f560a32-7999-436d-a03a-566441b73355"
   },
   "outputs": [],
   "source": [
    "for s in [lMSRD0,lMSRD1,lMSRD2,lMSRD3,lMSRD4,lMSRD5,lMSRD6,lMSRD7,lMSRD8,lMSRD9]:\n",
    "  print(np.mean(s),np.std(s))"
   ]
  },
  {
   "cell_type": "code",
   "execution_count": null,
   "metadata": {
    "colab": {
     "background_save": true
    },
    "id": "ZDbcpmaD19_b",
    "outputId": "c93d4e33-05ba-4d09-afd9-39e46774825f"
   },
   "outputs": [],
   "source": [
    "import csv\n",
    "a=[lMSRD0,lMSRD1,lMSRD2,lMSRD3,lMSRD4,lMSRD5,lMSRD6,lMSRD7,lMSRD8,lMSRD9]\n",
    "with open(\"1_lMSR.csv\", \"w\", newline=\"\") as f:\n",
    "    writer = csv.writer(f)\n",
    "    writer.writerows(a)\n",
    "\n",
    "from google.colab import files\n",
    "files.download('1_lMSR.csv')"
   ]
  },
  {
   "cell_type": "code",
   "execution_count": null,
   "metadata": {
    "colab": {
     "background_save": true
    },
    "id": "77zb6XOA19_c"
   },
   "outputs": [],
   "source": [
    "#About 15 mins"
   ]
  },
  {
   "cell_type": "markdown",
   "metadata": {
    "id": "UOyOK9Db19_d"
   },
   "source": [
    "# Bluk Function for width encoding"
   ]
  },
  {
   "cell_type": "code",
   "execution_count": null,
   "metadata": {
    "colab": {
     "background_save": true
    },
    "id": "dRy6dQEp19_e"
   },
   "outputs": [],
   "source": [
    "def enc(r):\n",
    "    return [10]*(r) #[length]*(width) of the pulse\n",
    "\n",
    "def cal_msr(D,nature):\n",
    "    no_of_images=np.shape(D)[0]\n",
    "    msr=[]\n",
    "    \n",
    "    for ig in range(no_of_images):\n",
    "        #Scalling the image from 0.0 1.0 to 0 to 255 \n",
    "        img=np.array(255*D[ig,:],dtype=int);\n",
    "\n",
    "        #Encoding \n",
    "        curr=[]\n",
    "        for i in range(np.shape(img)[0]):\n",
    "            if img[i]!=0:\n",
    "                curr.append(enc(img[i]))    \n",
    "            else:\n",
    "                curr.append([0.0])\n",
    "        current=np.concatenate(curr, axis=None)\n",
    "\n",
    "        #declaring time\n",
    "        niter=np.shape(current)[0]\n",
    "        dt = 0.01;\n",
    "        #ti = 0.0; tf = niter*dt;\n",
    "        #t=np.linspace(ti,tf,niter)\n",
    "\n",
    "        sol=IZH_NeuModel(nature,niter,dt,current)\n",
    "        Spikes=np.zeros(np.shape(sol[1:,0]),dtype=int)\n",
    "        Spikes[np.where(sol[1:,0]>0.0)]=1\n",
    "\n",
    "        #plt.plot(t,current,\"r-\",label=\"current\")\n",
    "        #plt.axhline(30.0)\n",
    "        #plt.plot(t,vsol,label=\"Mem Pot\")\n",
    "        #plt.plot(t,Spikes*(-70.0),\"bo\",ms=1,label=\"Spikes\")\n",
    "\n",
    "        msr.append(Main.calculate_MSR(Spikes))\n",
    "    return msr"
   ]
  },
  {
   "cell_type": "code",
   "execution_count": null,
   "metadata": {
    "colab": {
     "background_save": true
    },
    "id": "8_h3ryqg19_f"
   },
   "outputs": [],
   "source": [
    "nature=1\n",
    "wMSRD0=cal_msr(D0,nature);\n",
    "wMSRD1=cal_msr(D1,nature);\n",
    "wMSRD2=cal_msr(D2,nature);\n",
    "wMSRD3=cal_msr(D3,nature);\n",
    "wMSRD4=cal_msr(D4,nature);\n",
    "wMSRD5=cal_msr(D5,nature);\n",
    "wMSRD6=cal_msr(D6,nature);\n",
    "wMSRD7=cal_msr(D7,nature);\n",
    "wMSRD8=cal_msr(D8,nature);\n",
    "wMSRD9=cal_msr(D9,nature);"
   ]
  },
  {
   "cell_type": "code",
   "execution_count": null,
   "metadata": {
    "colab": {
     "background_save": true
    },
    "id": "FVx7mTq419_g",
    "outputId": "7552bdfe-be2f-4726-ab73-a922e2c29893"
   },
   "outputs": [],
   "source": [
    "for s in [wMSRD0,wMSRD1,wMSRD2,wMSRD3,wMSRD4,wMSRD5,wMSRD6,wMSRD7,wMSRD8,wMSRD9]:\n",
    "  print(np.mean(s),np.std(s))"
   ]
  },
  {
   "cell_type": "code",
   "execution_count": null,
   "metadata": {
    "colab": {
     "background_save": true
    },
    "id": "yPOZul3h19_h",
    "outputId": "56f30c58-4073-4af5-fd48-5e850d45d936"
   },
   "outputs": [],
   "source": [
    "import csv\n",
    "a=[wMSRD0,wMSRD1,wMSRD2,wMSRD3,wMSRD4,wMSRD5,wMSRD6,wMSRD7,wMSRD8,wMSRD9]\n",
    "with open(\"1_wMSR.csv\", \"w\", newline=\"\") as f:\n",
    "    writer = csv.writer(f)\n",
    "    writer.writerows(a)\n",
    "\n",
    "from google.colab import files\n",
    "files.download('1_wMSR.csv')"
   ]
  },
  {
   "cell_type": "code",
   "execution_count": null,
   "metadata": {
    "colab": {
     "background_save": true
    },
    "id": "RuAbxARg19_h"
   },
   "outputs": [],
   "source": [
    "#About 25 mins each"
   ]
  },
  {
   "cell_type": "markdown",
   "metadata": {
    "id": "xoiu9hAl19_i"
   },
   "source": [
    "# Bluk Function for Area encoding"
   ]
  },
  {
   "cell_type": "code",
   "execution_count": null,
   "metadata": {
    "colab": {
     "background_save": true
    },
    "id": "g4Wch-Bv19_i"
   },
   "outputs": [],
   "source": [
    "from functools import reduce\n",
    "from math import sqrt\n",
    "def factors(n):\n",
    "        step = 2 if n%2 else 1\n",
    "        return set(reduce(list.__add__,\n",
    "                    ([i, n//i] for i in range(1, int(sqrt(n))+1, step) if n % i == 0)))\n",
    "\n",
    "\n",
    "def enc(r):\n",
    "        a=np.sort(list(factors(r)))\n",
    "        N=np.shape(a)[0]\n",
    "        if N==1:\n",
    "            return [r]\n",
    "        elif N==2:\n",
    "            return [a[0]]*(a[-1]) #[length]*(width) of the pulse\n",
    "        elif N==3:\n",
    "            return [a[0]]*(a[-1]) #[length]*(width) of the pulse\n",
    "        elif N==4:\n",
    "            return [a[1]]*(a[-2]) #[length]*(width) of the pulse\n",
    "        else:\n",
    "            s=np.random.randint(1,(N/2))\n",
    "            if a[s]*a[-s-1]!=r:raise Exception(\"Sorry, Area not conserved!!\") \n",
    "            return [a[s]]*(a[-s-1]) #[length]*(width) of the pulse\n",
    "\n",
    "def cal_msr(D,nature):\n",
    "    no_of_images=np.shape(D)[0]\n",
    "    msr=[]\n",
    "    \n",
    "    for ig in range(no_of_images):\n",
    "        #Scalling the image from 0.0 1.0 to 0 to 255 \n",
    "        img=np.array(255*D[ig,:],dtype=int);\n",
    "\n",
    "        #Encoding \n",
    "        curr=[]\n",
    "        for i in range(np.shape(img)[0]):\n",
    "            if img[i]!=0:\n",
    "                curr.append(enc(img[i]))    \n",
    "            else:\n",
    "                curr.append([0.0])\n",
    "        current=np.concatenate(curr, axis=None)\n",
    "\n",
    "        #declaring time\n",
    "        niter=np.shape(current)[0]\n",
    "        dt = 0.01;\n",
    "        #ti = 0.0; tf = niter*dt;\n",
    "        #t=np.linspace(ti,tf,niter)\n",
    "\n",
    "        sol=IZH_NeuModel(nature,niter,dt,current)\n",
    "        Spikes=np.zeros(np.shape(sol[1:,0]),dtype=int)\n",
    "        Spikes[np.where(sol[1:,0]>0.0)]=1\n",
    "\n",
    "        #plt.plot(t,current,\"r-\",label=\"current\")\n",
    "        #plt.axhline(30.0)\n",
    "        #plt.plot(t,vsol,label=\"Mem Pot\")\n",
    "        #plt.plot(t,Spikes*(-70.0),\"bo\",ms=1,label=\"Spikes\")\n",
    "\n",
    "        msr.append(Main.calculate_MSR(Spikes))\n",
    "    return msr"
   ]
  },
  {
   "cell_type": "code",
   "execution_count": null,
   "metadata": {
    "id": "tS4BzpMN19_j"
   },
   "outputs": [],
   "source": [
    "nature=1\n",
    "aMSRD0=cal_msr(D0,nature);\n",
    "aMSRD1=cal_msr(D1,nature);\n",
    "aMSRD2=cal_msr(D2,nature);\n",
    "aMSRD3=cal_msr(D3,nature);\n",
    "aMSRD4=cal_msr(D4,nature);\n",
    "aMSRD5=cal_msr(D5,nature);\n",
    "aMSRD6=cal_msr(D6,nature);\n",
    "aMSRD7=cal_msr(D7,nature);\n",
    "aMSRD8=cal_msr(D8,nature);\n",
    "aMSRD9=cal_msr(D9,nature);"
   ]
  },
  {
   "cell_type": "code",
   "execution_count": null,
   "metadata": {
    "id": "X0wy9Ziy19_k"
   },
   "outputs": [],
   "source": [
    "for s in [aMSRD0,aMSRD1,aMSRD2,aMSRD3,aMSRD4,aMSRD5,aMSRD6,aMSRD7,aMSRD8,aMSRD9]:\n",
    "  print(np.mean(s),np.std(s))"
   ]
  },
  {
   "cell_type": "code",
   "execution_count": null,
   "metadata": {
    "id": "M58VAW9W19_l"
   },
   "outputs": [],
   "source": [
    "import csv\n",
    "a=[aMSRD0,aMSRD1,aMSRD2,aMSRD3,aMSRD4,aMSRD5,aMSRD6,aMSRD7,aMSRD8,aMSRD9]\n",
    "with open(\"1_aMSR.csv\", \"w\", newline=\"\") as f:\n",
    "    writer = csv.writer(f)\n",
    "    writer.writerows(a)\n",
    "\n",
    "from google.colab import files\n",
    "files.download('1_aMSR.csv')"
   ]
  },
  {
   "cell_type": "code",
   "execution_count": null,
   "metadata": {
    "id": "0kxaIhfC19_l"
   },
   "outputs": [],
   "source": []
  }
 ],
 "metadata": {
  "colab": {
   "collapsed_sections": [
    "T-6BRn8yu4n9",
    "wDF_HcqkuyQn",
    "rIB1Lpb1vb8y",
    "fzzabiedvsZe",
    "uBO60vHwwVoT",
    "eNwZ1nQvwJU5"
   ],
   "name": "IZH_Soumik.ipynb",
   "provenance": []
  },
  "kernelspec": {
   "display_name": "Python [conda env:work1]",
   "language": "python",
   "name": "conda-env-work1-py"
  },
  "language_info": {
   "codemirror_mode": {
    "name": "ipython",
    "version": 3
   },
   "file_extension": ".py",
   "mimetype": "text/x-python",
   "name": "python",
   "nbconvert_exporter": "python",
   "pygments_lexer": "ipython3",
   "version": "3.9.5"
  }
 },
 "nbformat": 4,
 "nbformat_minor": 4
}
